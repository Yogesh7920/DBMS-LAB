{
 "cells": [
  {
   "cell_type": "markdown",
   "metadata": {
    "id": "vaUpRVTqHMZe"
   },
   "source": [
    "## MongoDB\n",
    "- MongoDB belongs to the family of NoSQL databases which is used for storing unstructured documents in JSON format.\n",
    "- mongoDB replaces the concept of rows used in conventional sql database with something called as document.\n",
    "- It offers flexibility to work with evolving data models.\n",
    "\n",
    "\n",
    "### Why mongoDB\n",
    "Faster\n",
    "\n",
    "Partition Tolerence\n",
    "\n",
    "Unlike SQL databases, where you must determine and declare a table's schema before inserting data, MongoDB's collections, by default, do not require their documents to have the same schema. That is:\n",
    "- The documents in a single collection do not need to have the same set of fields and the data type for a field can differ across documents within a collection.\n",
    "\n",
    "Database(Community) --> Collection(friends) --> Documents      \n",
    "\n",
    "    {\n",
    "        'name': \"abc\",\n",
    "        'social_media': {\n",
    "            'twitter': '@gdabc',\n",
    "            'facebook': 'abc11'\n",
    "        }\n",
    "        'sports': [\"volleyball\", \"tennis\"]\n",
    "    }\n",
    "    {\n",
    "        'user_name': \"ghj\",\n",
    "        'social_media': {\n",
    "            'twitter': '@gmhij'\n",
    "        } \n",
    "    }\n"
   ]
  },
  {
   "cell_type": "markdown",
   "metadata": {
    "id": "weUT9_ybHMZf"
   },
   "source": [
    "## Importing and connecting with the MongoDB"
   ]
  },
  {
   "cell_type": "code",
   "execution_count": 2,
   "metadata": {
    "executionInfo": {
     "elapsed": 2352,
     "status": "ok",
     "timestamp": 1602352244406,
     "user": {
      "displayName": "Rimmon Saloman Bhosale",
      "photoUrl": "",
      "userId": "01307082203144505161"
     },
     "user_tz": -330
    },
    "id": "FYII0cLxHMZg"
   },
   "outputs": [],
   "source": [
    "from pymongo import MongoClient"
   ]
  },
  {
   "cell_type": "code",
   "execution_count": 3,
   "metadata": {
    "executionInfo": {
     "elapsed": 1724,
     "status": "ok",
     "timestamp": 1602352250508,
     "user": {
      "displayName": "Rimmon Saloman Bhosale",
      "photoUrl": "",
      "userId": "01307082203144505161"
     },
     "user_tz": -330
    },
    "id": "qzmttdRgHMZk"
   },
   "outputs": [
    {
     "data": {
      "text/plain": [
       "['admin', 'agg_demo', 'config', 'local', 'newdatabase', 'newdb', 'trial']"
      ]
     },
     "execution_count": 3,
     "metadata": {},
     "output_type": "execute_result"
    }
   ],
   "source": [
    "## Connects to \"localhost\"\n",
    "client = MongoClient()#('localhost', 27017),('mongodb://localhost:27017/')\n",
    "\n",
    "#Checking the databases\n",
    "client.drop_database('test_db')\n",
    "client.list_database_names()"
   ]
  },
  {
   "cell_type": "markdown",
   "metadata": {
    "id": "G9NkSi2DHMZn"
   },
   "source": [
    "## Creating an object for a database and a particular collection in mongodb\n",
    "* A **collection** is a group of documents stored in MongoDB. Equivalent to **table** in Relational DB\n",
    "* A **document** in a collection is equivalent to a **row** in a table of relational DB. \n",
    "* Data in MongoDB is represented (and stored) using **JSON-style** documents.\n",
    "* In PyMongo we use **dictionaries** to represent documents.\n",
    "\n",
    "### Document structure\n",
    "##### Embedded/nested documents\n",
    "    {\n",
    "        '_id': ObjectId(\"5099803df3f4948bd2f98391\"),\n",
    "        'name': { \n",
    "            'first': \"Alan\",\n",
    "            'last': \"Turing\" \n",
    "        },\n",
    "        'contact': { \n",
    "            'phone': { \n",
    "                'type': \"cell\", \n",
    "                'number': \"111-222-3333\" \n",
    "                } \n",
    "            },\n",
    "        'birth': 'Jun 23, 1912',\n",
    "        'death': 'Jun 07, 1954'`m,\n",
    "        'contribs': [ \"Turing machine\", \"Turing test\", \"Turingery\" ],\n",
    "        'views' : NumberLong(1250000)\n",
    "    }"
   ]
  },
  {
   "cell_type": "code",
   "execution_count": 4,
   "metadata": {
    "executionInfo": {
     "elapsed": 2069,
     "status": "ok",
     "timestamp": 1602352255028,
     "user": {
      "displayName": "Rimmon Saloman Bhosale",
      "photoUrl": "",
      "userId": "01307082203144505161"
     },
     "user_tz": -330
    },
    "id": "CLDdtlKUHMZo"
   },
   "outputs": [
    {
     "data": {
      "text/plain": [
       "['admin', 'agg_demo', 'config', 'local', 'newdatabase', 'newdb', 'trial']"
      ]
     },
     "execution_count": 4,
     "metadata": {},
     "output_type": "execute_result"
    }
   ],
   "source": [
    "#Defining a database\n",
    "db = client.test_db      \n",
    "db = client['test_db']   \n",
    "client.list_database_names()"
   ]
  },
  {
   "cell_type": "code",
   "execution_count": 5,
   "metadata": {
    "executionInfo": {
     "elapsed": 1362,
     "status": "ok",
     "timestamp": 1602352258474,
     "user": {
      "displayName": "Rimmon Saloman Bhosale",
      "photoUrl": "",
      "userId": "01307082203144505161"
     },
     "user_tz": -330
    },
    "id": "IDh713rFHMZr"
   },
   "outputs": [
    {
     "name": "stdout",
     "output_type": "stream",
     "text": [
      "[]\n"
     ]
    }
   ],
   "source": [
    "#Defining a collection\n",
    "collection = db.test_collection    #attribute style access\n",
    "collection = db['test_collection'] #dictionary style access\n",
    "#Listing the collections in the database\n",
    "print(db.list_collection_names())"
   ]
  },
  {
   "cell_type": "markdown",
   "metadata": {},
   "source": [
    "### Topics\n",
    "* Insert\n",
    "* Find\n",
    "* Count\n",
    "* Update\n",
    "* Limit\n",
    "* Delete\n",
    "* Aggregation"
   ]
  },
  {
   "cell_type": "markdown",
   "metadata": {
    "id": "4z_2G4_AHMZu"
   },
   "source": [
    "## Insert: \n",
    "* Special key, \"_id\", is automatically added if the document doesn’t already contain an \"_id\" key. The value of \"_id\" must be unique across the collection. \n"
   ]
  },
  {
   "cell_type": "code",
   "execution_count": 6,
   "metadata": {
    "colab": {
     "base_uri": "https://localhost:8080/",
     "height": 396
    },
    "executionInfo": {
     "elapsed": 31328,
     "status": "error",
     "timestamp": 1602352294801,
     "user": {
      "displayName": "Rimmon Saloman Bhosale",
      "photoUrl": "",
      "userId": "01307082203144505161"
     },
     "user_tz": -330
    },
    "id": "42618PdkHMZv",
    "outputId": "e4b0b42c-38b8-4600-d219-9e90eb42a93b",
    "scrolled": false
   },
   "outputs": [
    {
     "name": "stdout",
     "output_type": "stream",
     "text": [
      "['test_col']\n"
     ]
    },
    {
     "data": {
      "text/plain": [
       "['admin',\n",
       " 'agg_demo',\n",
       " 'config',\n",
       " 'local',\n",
       " 'newdatabase',\n",
       " 'newdb',\n",
       " 'test_db',\n",
       " 'trial']"
      ]
     },
     "execution_count": 6,
     "metadata": {},
     "output_type": "execute_result"
    }
   ],
   "source": [
    "#Creating the collection\n",
    "\n",
    "#db.test_col.drop()\n",
    "coll = db.test_col\n",
    "#Defining a document\n",
    "doc =   {\n",
    "    'Name': \"abc\",\n",
    "    'social_media': {\n",
    "        'twitter': '@gdabc',\n",
    "        'facebook': 'abc11'\n",
    "    },\n",
    "    'sports': [\"volleyball\", \"tennis\"]\n",
    "}\n",
    "#Insert the doc in coll\n",
    "data = coll.insert_one(doc)\n",
    "data_id = data.inserted_id\n",
    "#Listing the collections in the database\n",
    "print(db.list_collection_names())\n",
    "#New database added\n",
    "client.list_database_names()"
   ]
  },
  {
   "cell_type": "code",
   "execution_count": 7,
   "metadata": {},
   "outputs": [
    {
     "data": {
      "text/plain": [
       "ObjectId('60910b53f8cca3ed9afbf8f8')"
      ]
     },
     "execution_count": 7,
     "metadata": {},
     "output_type": "execute_result"
    }
   ],
   "source": [
    "data_id"
   ]
  },
  {
   "cell_type": "code",
   "execution_count": 8,
   "metadata": {
    "scrolled": true
   },
   "outputs": [
    {
     "name": "stdout",
     "output_type": "stream",
     "text": [
      "{'_id': ObjectId('60910b53f8cca3ed9afbf8f8'), 'Name': 'abc', 'social_media': {'twitter': '@gdabc', 'facebook': 'abc11'}, 'sports': ['volleyball', 'tennis']}\n"
     ]
    }
   ],
   "source": [
    "doc = db.test_col.find_one()\n",
    "print(doc)"
   ]
  },
  {
   "cell_type": "code",
   "execution_count": 8,
   "metadata": {},
   "outputs": [],
   "source": [
    "#coll.delete_one({'_id':12})\n",
    "doc =   { \n",
    "        '_id': 12,\n",
    "        \"Name\": \"A11\",\n",
    "        \"Pass\" : 12345,\n",
    "        \"Contact\":6783428973\n",
    "        }\n",
    "data_id = coll.insert_one(doc).inserted_id\n",
    "#print(coll.find_one({\"_id\":12}))"
   ]
  },
  {
   "cell_type": "code",
   "execution_count": 9,
   "metadata": {
    "id": "RepDriZSHMZ2",
    "outputId": "9250de2e-5069-48f9-ec1d-5e6fd45f4fc9"
   },
   "outputs": [
    {
     "data": {
      "text/plain": [
       "[ObjectId('60910bc5f8cca3ed9afbf8f9'), ObjectId('60910bc5f8cca3ed9afbf8fa'), 5]"
      ]
     },
     "execution_count": 9,
     "metadata": {},
     "output_type": "execute_result"
    }
   ],
   "source": [
    "coll.delete_one({'_id':5})\n",
    "#insert_many()\n",
    "multiple_docs = [\n",
    "            {\n",
    "            \"Name\" : \"C33\",\n",
    "            \"Pass\" : 25445,\n",
    "            \"Contact\":6858869980\n",
    "            },\n",
    "             \n",
    "            {\n",
    "            \"Name\": \"D44\",\n",
    "            \"Pass\" : 22335,\n",
    "            \"Contact\":4251683492\n",
    "            },\n",
    "             \n",
    "            {\n",
    "            \"_id\" : 5,\n",
    "            \"Name\": \"E55\",\n",
    "            \"Pass\" : 65265,\n",
    "            \"Contact\":7843697348\n",
    "            }\n",
    "            ]\n",
    "#Insert many at a time\n",
    "result = coll.insert_many(multiple_docs)\n",
    "result.inserted_ids"
   ]
  },
  {
   "cell_type": "markdown",
   "metadata": {
    "id": "JKwwRxwzHMZ8"
   },
   "source": [
    "## Find\n",
    "* find_one() method returns a single document matching a query (or None if there are no matches). \n",
    "* It is useful when you know there is only one matching document, or are only interested in the first match."
   ]
  },
  {
   "cell_type": "code",
   "execution_count": 10,
   "metadata": {},
   "outputs": [
    {
     "data": {
      "text/plain": [
       "12"
      ]
     },
     "execution_count": 10,
     "metadata": {},
     "output_type": "execute_result"
    }
   ],
   "source": [
    "data_id"
   ]
  },
  {
   "cell_type": "code",
   "execution_count": 11,
   "metadata": {
    "id": "pFCUydQiHMZ9",
    "outputId": "52fa132c-4ba6-47d0-fff3-aaf78bb6894b"
   },
   "outputs": [
    {
     "name": "stdout",
     "output_type": "stream",
     "text": [
      "\n",
      "Printing without pprint:\n",
      "\n",
      "{'_id': ObjectId('60910b53f8cca3ed9afbf8f8'), 'Name': 'abc', 'social_media': {'twitter': '@gdabc', 'facebook': 'abc11'}, 'sports': ['volleyball', 'tennis']}\n",
      "\n",
      "\n",
      "Printing with pprint and findone without arguments:\n",
      "\n",
      "{'Name': 'abc',\n",
      " '_id': ObjectId('60910b53f8cca3ed9afbf8f8'),\n",
      " 'social_media': {'facebook': 'abc11', 'twitter': '@gdabc'},\n",
      " 'sports': ['volleyball', 'tennis']}\n",
      "\n",
      "\n",
      "Printing with pprint and findone with arguments:\n",
      "\n",
      "None\n"
     ]
    }
   ],
   "source": [
    "#find_one()\n",
    "#pprint()\n",
    "\n",
    "import pprint #Doesnt work when only 2 entries, fails when doc contains \"_id\"\n",
    "\n",
    "print(\"\\nPrinting without pprint:\\n\")\n",
    "print(coll.find_one({\"_id\": data_id}))\n",
    "\n",
    "print(\"\\n\\nPrinting with pprint and findone without arguments:\\n\")\n",
    "pprint.pprint(coll.find_one())\n",
    "\n",
    "print(\"\\n\\nPrinting with pprint and findone with arguments:\\n\")\n",
    "pprint.pprint(coll.find_one({\"Name\": \"A11\"}))"
   ]
  },
  {
   "cell_type": "code",
   "execution_count": 13,
   "metadata": {
    "id": "40-1-8FKHMaA",
    "outputId": "fede05dc-6398-440f-c688-d75fcd990770"
   },
   "outputs": [
    {
     "name": "stdout",
     "output_type": "stream",
     "text": [
      "\n",
      "Post ID:\n",
      "60910b53f8cca3ed9afbf8f8\n",
      "\n",
      "Finding with post ID:\n",
      "{'Name': 'abc',\n",
      " '_id': ObjectId('60910b53f8cca3ed9afbf8f8'),\n",
      " 'social_media': {'facebook': 'abc11', 'twitter': '@gdabc'},\n",
      " 'sports': ['volleyball', 'tennis']}\n",
      "\n",
      "Finding with string representing post ID:\n",
      "{'Contact': 7843697348, 'Name': 'E55', 'Pass': 65265, '_id': 5}\n"
     ]
    }
   ],
   "source": [
    "#_id is not a string\n",
    "\n",
    "print(\"\\nPost ID:\")\n",
    "print(data_id)\n",
    "\n",
    "print(\"\\nFinding with post ID:\")\n",
    "pprint.pprint(coll.find_one({\"_id\": data_id}))\n",
    "\n",
    "print(\"\\nFinding with string representing post ID:\")\n",
    "pprint.pprint(coll.find_one({\"_id\":5}))"
   ]
  },
  {
   "cell_type": "code",
   "execution_count": 14,
   "metadata": {},
   "outputs": [
    {
     "name": "stdout",
     "output_type": "stream",
     "text": [
      "<class 'bson.objectid.ObjectId'>\n"
     ]
    }
   ],
   "source": [
    "#Showing that the id as string is not same as this id\n",
    "print(type(data_id))"
   ]
  },
  {
   "cell_type": "code",
   "execution_count": 15,
   "metadata": {
    "id": "UnjeQAXFHMaD",
    "outputId": "5e71220f-03da-4457-bf1f-404b3912a84a"
   },
   "outputs": [
    {
     "name": "stdout",
     "output_type": "stream",
     "text": [
      "{'Name': 'abc',\n",
      " '_id': ObjectId('60910b53f8cca3ed9afbf8f8'),\n",
      " 'social_media': {'facebook': 'abc11', 'twitter': '@gdabc'},\n",
      " 'sports': ['volleyball', 'tennis']}\n",
      "\n",
      "{'Contact': 6858869980,\n",
      " 'Name': 'C33',\n",
      " 'Pass': 25445,\n",
      " '_id': ObjectId('60910bc5f8cca3ed9afbf8f9')}\n",
      "\n",
      "{'Contact': 4251683492,\n",
      " 'Name': 'D44',\n",
      " 'Pass': 22335,\n",
      " '_id': ObjectId('60910bc5f8cca3ed9afbf8fa')}\n",
      "\n",
      "{'Contact': 7843697348, 'Name': 'E55', 'Pass': 65265, '_id': 5}\n",
      "\n"
     ]
    }
   ],
   "source": [
    "# Iterating over the docs:\n",
    "for doc in coll.find():\n",
    "    pprint.pprint(doc)   \n",
    "    print()"
   ]
  },
  {
   "cell_type": "code",
   "execution_count": 16,
   "metadata": {
    "id": "3h-UVzwCHMaG",
    "outputId": "b7c3ef4e-d60b-49d1-8cb6-6487b10ea4aa"
   },
   "outputs": [
    {
     "name": "stdout",
     "output_type": "stream",
     "text": [
      "{'Name': 'abc',\n",
      " '_id': ObjectId('60910b53f8cca3ed9afbf8f8'),\n",
      " 'social_media': {'facebook': 'abc11', 'twitter': '@gdabc'},\n",
      " 'sports': ['volleyball', 'tennis']}\n",
      "\n",
      "{'Contact': 4251683492,\n",
      " 'Name': 'D44',\n",
      " 'Pass': 22335,\n",
      " '_id': ObjectId('60910bc5f8cca3ed9afbf8fa')}\n",
      "\n",
      "{'Contact': 6858869980,\n",
      " 'Name': 'C33',\n",
      " 'Pass': 25445,\n",
      " '_id': ObjectId('60910bc5f8cca3ed9afbf8f9')}\n",
      "\n",
      "{'Contact': 7843697348, 'Name': 'E55', 'Pass': 65265, '_id': 5}\n",
      "\n"
     ]
    }
   ],
   "source": [
    "# Sorthing the results of find():\n",
    "for doc in coll.find().sort(\"Pass\"):\n",
    "    pprint.pprint(doc)\n",
    "    print()"
   ]
  },
  {
   "cell_type": "code",
   "execution_count": 17,
   "metadata": {
    "id": "DJKb40s3HMaL",
    "outputId": "b3c209a3-7d37-40e3-cf69-76077740a883"
   },
   "outputs": [
    {
     "name": "stdout",
     "output_type": "stream",
     "text": [
      "{'Name': 'abc',\n",
      " '_id': ObjectId('60910b53f8cca3ed9afbf8f8'),\n",
      " 'social_media': {'facebook': 'abc11', 'twitter': '@gdabc'},\n",
      " 'sports': ['volleyball', 'tennis']}\n"
     ]
    }
   ],
   "source": [
    "# Using operators : $in, $eq, $gt etc.\n",
    "#pprint.pprint(coll.find_one({\"_id\": data_id}))\n",
    "for doc in coll.find({'Name': { '$in': ['User','abc']}}):\n",
    "    pprint.pprint(doc)"
   ]
  },
  {
   "cell_type": "markdown",
   "metadata": {
    "id": "rDlGS-MiHMaR"
   },
   "source": [
    "## Count"
   ]
  },
  {
   "cell_type": "code",
   "execution_count": 20,
   "metadata": {
    "id": "wj5t-lPyHMaR",
    "outputId": "3a5c909d-ff52-40d6-e168-f7bcc0ed1d31"
   },
   "outputs": [
    {
     "data": {
      "text/plain": [
       "4"
      ]
     },
     "execution_count": 20,
     "metadata": {},
     "output_type": "execute_result"
    }
   ],
   "source": [
    "coll.count_documents({})"
   ]
  },
  {
   "cell_type": "markdown",
   "metadata": {
    "id": "CGZWe80vHMaU"
   },
   "source": [
    "## Update"
   ]
  },
  {
   "cell_type": "code",
   "execution_count": 21,
   "metadata": {
    "id": "g1WSdvtWHMaV",
    "outputId": "9c4a9fe4-0acf-485a-b79f-65abb208b57e"
   },
   "outputs": [],
   "source": [
    "#Using regex and $set:\n",
    "\n",
    "for doc in coll.find({\"Name\": {\"$regex\": \"^B\"}}):\n",
    "    pprint.pprint(doc)\n",
    "    \n",
    "myquery = { \"Name\": { \"$regex\": \"^C\" } }\n",
    "newvalues = { \"$set\": { \"Name\": 'ABC' } }\n",
    "\n",
    "coll.update_many(myquery, newvalues)\n",
    "\n",
    "for doc in coll.find({\"Name\": {\"$regex\": \"^C\"}}):\n",
    "    pprint.pprint(doc)"
   ]
  },
  {
   "cell_type": "code",
   "execution_count": 22,
   "metadata": {
    "id": "06L5nNCQHMaX",
    "outputId": "382304a5-ec4f-483e-c500-68eff57870c6"
   },
   "outputs": [
    {
     "data": {
      "text/plain": [
       "<pymongo.results.UpdateResult at 0x17b5c890fc0>"
      ]
     },
     "execution_count": 22,
     "metadata": {},
     "output_type": "execute_result"
    }
   ],
   "source": [
    "coll.update_many({ \"Name\": { \"$regex\": \"^C\" } }, { \"$set\": { \"Name\": \"Steve\" } })\n",
    "coll.update_one({ \"Name\": { \"$regex\": \"^B\" } }, { \"$set\": { \"Name\": \"Annet\" } })"
   ]
  },
  {
   "cell_type": "code",
   "execution_count": 23,
   "metadata": {
    "id": "7RdKplk_HMaa",
    "outputId": "4166ca3c-c704-4ae1-b917-dd92abe58af9"
   },
   "outputs": [
    {
     "name": "stdout",
     "output_type": "stream",
     "text": [
      "{'Name': 'abc',\n",
      " '_id': ObjectId('60910b53f8cca3ed9afbf8f8'),\n",
      " 'social_media': {'facebook': 'abc11', 'twitter': '@gdabc'},\n",
      " 'sports': ['volleyball', 'tennis']}\n",
      "\n",
      "{'Contact': 6858869980,\n",
      " 'Name': 'ABC',\n",
      " 'Pass': 25445,\n",
      " '_id': ObjectId('60910bc5f8cca3ed9afbf8f9')}\n",
      "\n",
      "{'Contact': 4251683492,\n",
      " 'Name': 'D44',\n",
      " 'Pass': 22335,\n",
      " '_id': ObjectId('60910bc5f8cca3ed9afbf8fa')}\n",
      "\n",
      "{'Contact': 7843697348, 'Name': 'E55', 'Pass': 65265, '_id': 5}\n",
      "\n"
     ]
    }
   ],
   "source": [
    "for doc in coll.find():\n",
    "    pprint.pprint(doc)\n",
    "    print()"
   ]
  },
  {
   "cell_type": "markdown",
   "metadata": {},
   "source": [
    "# Limit"
   ]
  },
  {
   "cell_type": "code",
   "execution_count": 24,
   "metadata": {},
   "outputs": [
    {
     "name": "stdout",
     "output_type": "stream",
     "text": [
      "{'Name': 'abc',\n",
      " '_id': ObjectId('60910b53f8cca3ed9afbf8f8'),\n",
      " 'social_media': {'facebook': 'abc11', 'twitter': '@gdabc'},\n",
      " 'sports': ['volleyball', 'tennis']}\n",
      "\n",
      "{'Contact': 6858869980,\n",
      " 'Name': 'ABC',\n",
      " 'Pass': 25445,\n",
      " '_id': ObjectId('60910bc5f8cca3ed9afbf8f9')}\n",
      "\n",
      "{'Contact': 4251683492,\n",
      " 'Name': 'D44',\n",
      " 'Pass': 22335,\n",
      " '_id': ObjectId('60910bc5f8cca3ed9afbf8fa')}\n",
      "\n"
     ]
    }
   ],
   "source": [
    "for doc in coll.find().limit(3):\n",
    "    pprint.pprint(doc)\n",
    "    print()"
   ]
  },
  {
   "cell_type": "markdown",
   "metadata": {},
   "source": [
    "# Delete"
   ]
  },
  {
   "cell_type": "code",
   "execution_count": 25,
   "metadata": {},
   "outputs": [
    {
     "name": "stdout",
     "output_type": "stream",
     "text": [
      "{'Name': 'abc',\n",
      " '_id': ObjectId('60910b53f8cca3ed9afbf8f8'),\n",
      " 'social_media': {'facebook': 'abc11', 'twitter': '@gdabc'},\n",
      " 'sports': ['volleyball', 'tennis']}\n",
      "\n",
      "{'Contact': 6858869980,\n",
      " 'Name': 'ABC',\n",
      " 'Pass': 25445,\n",
      " '_id': ObjectId('60910bc5f8cca3ed9afbf8f9')}\n",
      "\n",
      "{'Contact': 4251683492,\n",
      " 'Name': 'D44',\n",
      " 'Pass': 22335,\n",
      " '_id': ObjectId('60910bc5f8cca3ed9afbf8fa')}\n",
      "\n",
      "{'Contact': 7843697348, 'Name': 'E55', 'Pass': 65265, '_id': 5}\n",
      "\n"
     ]
    }
   ],
   "source": [
    "for doc in coll.find():\n",
    "    pprint.pprint(doc)\n",
    "    print()"
   ]
  },
  {
   "cell_type": "code",
   "execution_count": 27,
   "metadata": {},
   "outputs": [
    {
     "name": "stdout",
     "output_type": "stream",
     "text": [
      "{'Name': 'abc',\n",
      " '_id': ObjectId('60910b53f8cca3ed9afbf8f8'),\n",
      " 'social_media': {'facebook': 'abc11', 'twitter': '@gdabc'},\n",
      " 'sports': ['volleyball', 'tennis']}\n",
      "\n",
      "{'Contact': 6858869980,\n",
      " 'Name': 'ABC',\n",
      " 'Pass': 25445,\n",
      " '_id': ObjectId('60910bc5f8cca3ed9afbf8f9')}\n",
      "\n",
      "{'Contact': 4251683492,\n",
      " 'Name': 'D44',\n",
      " 'Pass': 22335,\n",
      " '_id': ObjectId('60910bc5f8cca3ed9afbf8fa')}\n",
      "\n"
     ]
    }
   ],
   "source": [
    "coll.delete_one({'_id': 5})\n",
    "for doc in coll.find():\n",
    "    pprint.pprint(doc)\n",
    "    print()"
   ]
  },
  {
   "cell_type": "markdown",
   "metadata": {},
   "source": [
    "##### Aggregation\n",
    "\n",
    "    Aggregation operations process multiple documents and return computed results. Aggregation operations group values from \n",
    "    multiple documents together, and can perform a variety of operations on the grouped data to return a single result.\n",
    "\n",
    "Documentation for aggregation framework in python\n",
    "\n",
    "https://pymongo.readthedocs.io/en/stable/examples/aggregation.html#aggregation-framework "
   ]
  },
  {
   "cell_type": "code",
   "execution_count": 29,
   "metadata": {},
   "outputs": [
    {
     "name": "stdout",
     "output_type": "stream",
     "text": [
      "{'_id': 1, 'total': 75}\n",
      "\n",
      "{'_id': 2, 'total': 71}\n",
      "\n"
     ]
    }
   ],
   "source": [
    "import pymongo\n",
    "db = client.agg_demo\n",
    "db.grades.drop()\n",
    "docs = [\n",
    "    {'s_id': 1,'c_id': 1,'grades': 10},\n",
    "    {'s_id': 1,'c_id': 2,'grades': 15},\n",
    "    {'s_id': 1,'c_id': 3,'grades': 50},\n",
    "    {'s_id': 2,'c_id': 1,'grades': 40},\n",
    "    {'s_id': 2,'c_id': 2,'grades': 20},\n",
    "    {'s_id': 2,'c_id': 3,'grades': 11},\n",
    "    {'s_id': 3,'c_id': 1,'grades': 16},\n",
    "    {'s_id': 3,'c_id': 2,'grades': 18},\n",
    "    {'s_id': 3,'c_id': 3,'grades': 37},\n",
    "    {'s_id': 4,'c_id': 1,'grades': 23},\n",
    "    {'s_id': 4,'c_id': 2,'grades': 41},\n",
    "    {'s_id': 4,'c_id': 3,'grades': 53}\n",
    "]\n",
    "\n",
    "db.grades.insert_many(docs)\n",
    "\n",
    "for doc in db.grades.aggregate([{\"$group\":{\"_id\":\"$s_id\",\"total\":{\"$sum\":\"$grades\"}}},{\"$sort\":{\"_id\":pymongo.ASCENDING}},\n",
    "                                {\"$limit\":2}]):\n",
    "    pprint.pprint(doc)\n",
    "    print()"
   ]
  },
  {
   "cell_type": "code",
   "execution_count": null,
   "metadata": {},
   "outputs": [],
   "source": []
  },
  {
   "cell_type": "code",
   "execution_count": 26,
   "metadata": {},
   "outputs": [
    {
     "name": "stdout",
     "output_type": "stream",
     "text": [
      "Key Names for one document:\n",
      "_id\n",
      "Name\n",
      "Pass\n",
      "Contact\n"
     ]
    }
   ],
   "source": [
    "#Printing the key names in document:\n",
    "db = client.test_db\n",
    "print(\"Key Names for one document:\")\n",
    "for key_name in  coll.find_one({'Name':'ABC'}):\n",
    "    print(key_name)"
   ]
  },
  {
   "cell_type": "code",
   "execution_count": null,
   "metadata": {},
   "outputs": [],
   "source": []
  }
 ],
 "metadata": {
  "colab": {
   "collapsed_sections": [],
   "name": "Pymongo.ipynb",
   "provenance": []
  },
  "kernelspec": {
   "display_name": "Python 3",
   "language": "python",
   "name": "python3"
  },
  "language_info": {
   "codemirror_mode": {
    "name": "ipython",
    "version": 3
   },
   "file_extension": ".py",
   "mimetype": "text/x-python",
   "name": "python",
   "nbconvert_exporter": "python",
   "pygments_lexer": "ipython3",
   "version": "3.8.5"
  }
 },
 "nbformat": 4,
 "nbformat_minor": 1
}
