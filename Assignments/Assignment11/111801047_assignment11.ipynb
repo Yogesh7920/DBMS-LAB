{
 "cells": [
  {
   "cell_type": "code",
   "execution_count": 1,
   "metadata": {
    "collapsed": true
   },
   "outputs": [],
   "source": [
    "import pymongo\n",
    "from pprint import pprint as pp\n",
    "from bson.objectid import ObjectId\n",
    "from bson.json_util import loads"
   ]
  },
  {
   "cell_type": "code",
   "execution_count": 2,
   "outputs": [],
   "source": [
    "client = pymongo.MongoClient('localhost', 27017, username='root', password='mongo')#%%"
   ],
   "metadata": {
    "collapsed": false,
    "pycharm": {
     "name": "#%%\n"
    }
   }
  },
  {
   "cell_type": "markdown",
   "source": [
    "# Task 1"
   ],
   "metadata": {
    "collapsed": false,
    "pycharm": {
     "name": "#%% md\n"
    }
   }
  },
  {
   "cell_type": "code",
   "execution_count": 3,
   "outputs": [],
   "source": [
    "db = client['people']\n",
    "col = db['col']"
   ],
   "metadata": {
    "collapsed": false,
    "pycharm": {
     "name": "#%%\n"
    }
   }
  },
  {
   "cell_type": "code",
   "execution_count": 4,
   "outputs": [],
   "source": [
    "data = [\n",
    "    {\n",
    "        '_id': 1,\n",
    "        'name': 'Yogesh',\n",
    "        'age': 20,\n",
    "        'college': 'iitpkd'\n",
    "    },\n",
    "    {\n",
    "        '_id': 2,\n",
    "        'name': 'P2',\n",
    "        'age': 19,\n",
    "        'college': 'iitm'\n",
    "    },\n",
    "    {\n",
    "        '_id': 3,\n",
    "        'name': 'P3',\n",
    "        'age': 19,\n",
    "        'college': 'iitb'\n",
    "    },\n",
    "    {\n",
    "        'name': 'P4',\n",
    "        'age': 21,\n",
    "        'college': 'iitm'\n",
    "    },\n",
    "    {\n",
    "        'name': 'P5',\n",
    "        'age': 22,\n",
    "        'college': 'iitd'\n",
    "    }\n",
    "]"
   ],
   "metadata": {
    "collapsed": false,
    "pycharm": {
     "name": "#%%\n"
    }
   }
  },
  {
   "cell_type": "markdown",
   "source": [
    "## Insert"
   ],
   "metadata": {
    "collapsed": false,
    "pycharm": {
     "name": "#%% md\n"
    }
   }
  },
  {
   "cell_type": "code",
   "execution_count": 5,
   "outputs": [],
   "source": [
    "db.drop_collection('col')\n",
    "data = col.insert_many(data)"
   ],
   "metadata": {
    "collapsed": false,
    "pycharm": {
     "name": "#%%\n"
    }
   }
  },
  {
   "cell_type": "code",
   "execution_count": 6,
   "outputs": [],
   "source": [
    "data = col.insert_one({'name': 'Hello', 'age': 20, 'college': 'iisc'})"
   ],
   "metadata": {
    "collapsed": false,
    "pycharm": {
     "name": "#%%\n"
    }
   }
  },
  {
   "cell_type": "markdown",
   "source": [
    "## Find"
   ],
   "metadata": {
    "collapsed": false,
    "pycharm": {
     "name": "#%% md\n"
    }
   }
  },
  {
   "cell_type": "code",
   "execution_count": 7,
   "outputs": [
    {
     "name": "stdout",
     "output_type": "stream",
     "text": [
      "[{'_id': 1, 'age': 20, 'college': 'iitpkd', 'name': 'Yogesh'},\n",
      " {'_id': 2, 'age': 19, 'college': 'iitm', 'name': 'P2'},\n",
      " {'_id': 3, 'age': 19, 'college': 'iitb', 'name': 'P3'},\n",
      " {'_id': ObjectId('609947048c7b45c9cdc4d5fa'),\n",
      "  'age': 20,\n",
      "  'college': 'iisc',\n",
      "  'name': 'Hello'}]\n"
     ]
    }
   ],
   "source": [
    "pp([x for x in col.find({'age': {'$lte': 20}})])"
   ],
   "metadata": {
    "collapsed": false,
    "pycharm": {
     "name": "#%%\n"
    }
   }
  },
  {
   "cell_type": "code",
   "execution_count": 8,
   "outputs": [
    {
     "name": "stdout",
     "output_type": "stream",
     "text": [
      "{'_id': 1, 'age': 20, 'college': 'iitpkd', 'name': 'Yogesh'}\n"
     ]
    }
   ],
   "source": [
    "pp(col.find_one({'name': 'Yogesh'}))"
   ],
   "metadata": {
    "collapsed": false,
    "pycharm": {
     "name": "#%%\n"
    }
   }
  },
  {
   "cell_type": "markdown",
   "source": [
    "## Update"
   ],
   "metadata": {
    "collapsed": false,
    "pycharm": {
     "name": "#%% md\n"
    }
   }
  },
  {
   "cell_type": "code",
   "execution_count": 9,
   "outputs": [
    {
     "name": "stdout",
     "output_type": "stream",
     "text": [
      "{'_id': 3, 'age': 19, 'college': 'iitk', 'name': 'P3'}\n"
     ]
    }
   ],
   "source": [
    "query = {'name': 'P3'}\n",
    "new_value = {'$set': {'college': 'iitk'}}\n",
    "res = col.update_one(query, new_value)\n",
    "pp(col.find_one(query))\n"
   ],
   "metadata": {
    "collapsed": false,
    "pycharm": {
     "name": "#%%\n"
    }
   }
  },
  {
   "cell_type": "markdown",
   "source": [
    "## Replace"
   ],
   "metadata": {
    "collapsed": false,
    "pycharm": {
     "name": "#%% md\n"
    }
   }
  },
  {
   "cell_type": "code",
   "execution_count": 10,
   "outputs": [],
   "source": [
    "query = {'name': 'P5'}\n",
    "res = col.replace_one(query, {'name': 'P6', 'age': 21, 'college': 'iisc'})"
   ],
   "metadata": {
    "collapsed": false,
    "pycharm": {
     "name": "#%%\n"
    }
   }
  },
  {
   "cell_type": "code",
   "execution_count": 11,
   "outputs": [
    {
     "data": {
      "text/plain": "[{'_id': 1, 'name': 'Yogesh', 'age': 20, 'college': 'iitpkd'},\n {'_id': 2, 'name': 'P2', 'age': 19, 'college': 'iitm'},\n {'_id': 3, 'name': 'P3', 'age': 19, 'college': 'iitk'},\n {'_id': ObjectId('609947048c7b45c9cdc4d5f8'),\n  'name': 'P4',\n  'age': 21,\n  'college': 'iitm'},\n {'_id': ObjectId('609947048c7b45c9cdc4d5f9'),\n  'name': 'P6',\n  'age': 21,\n  'college': 'iisc'},\n {'_id': ObjectId('609947048c7b45c9cdc4d5fa'),\n  'name': 'Hello',\n  'age': 20,\n  'college': 'iisc'}]"
     },
     "execution_count": 11,
     "metadata": {},
     "output_type": "execute_result"
    }
   ],
   "source": [
    "list(col.find({}))"
   ],
   "metadata": {
    "collapsed": false,
    "pycharm": {
     "name": "#%%\n"
    }
   }
  },
  {
   "cell_type": "markdown",
   "source": [
    "## Delete"
   ],
   "metadata": {
    "collapsed": false,
    "pycharm": {
     "name": "#%% md\n"
    }
   }
  },
  {
   "cell_type": "code",
   "execution_count": 12,
   "outputs": [],
   "source": [
    "query = {'name': {'$regex': r'\\w*4|6$'}}\n",
    "res = col.delete_many(query)"
   ],
   "metadata": {
    "collapsed": false,
    "pycharm": {
     "name": "#%%\n"
    }
   }
  },
  {
   "cell_type": "markdown",
   "source": [
    "## Sort"
   ],
   "metadata": {
    "collapsed": false,
    "pycharm": {
     "name": "#%% md\n"
    }
   }
  },
  {
   "cell_type": "code",
   "execution_count": 13,
   "outputs": [
    {
     "data": {
      "text/plain": "[{'_id': 1, 'name': 'Yogesh', 'age': 20, 'college': 'iitpkd'},\n {'_id': ObjectId('609947048c7b45c9cdc4d5fa'),\n  'name': 'Hello',\n  'age': 20,\n  'college': 'iisc'},\n {'_id': 2, 'name': 'P2', 'age': 19, 'college': 'iitm'},\n {'_id': 3, 'name': 'P3', 'age': 19, 'college': 'iitk'}]"
     },
     "execution_count": 13,
     "metadata": {},
     "output_type": "execute_result"
    }
   ],
   "source": [
    "list(col.find({}).sort('age', -1))"
   ],
   "metadata": {
    "collapsed": false,
    "pycharm": {
     "name": "#%%\n"
    }
   }
  },
  {
   "cell_type": "markdown",
   "source": [
    "# Task 2"
   ],
   "metadata": {
    "collapsed": false,
    "pycharm": {
     "name": "#%% md\n"
    }
   }
  },
  {
   "cell_type": "code",
   "execution_count": 3,
   "outputs": [],
   "source": [
    "with open('primer-dataset.json') as f:\n",
    "    data = f.readlines()"
   ],
   "metadata": {
    "collapsed": false,
    "pycharm": {
     "name": "#%%\n"
    }
   }
  },
  {
   "cell_type": "code",
   "execution_count": 4,
   "outputs": [],
   "source": [
    "res = []\n",
    "for d in data:\n",
    "    res.append(loads(d))\n",
    "\n",
    "data = res"
   ],
   "metadata": {
    "collapsed": false,
    "pycharm": {
     "name": "#%%\n"
    }
   }
  },
  {
   "cell_type": "code",
   "execution_count": 5,
   "outputs": [],
   "source": [
    "db = client['test_db']\n",
    "db.drop_collection('restaurant')\n",
    "col = db['restaurant']"
   ],
   "metadata": {
    "collapsed": false,
    "pycharm": {
     "name": "#%%\n"
    }
   }
  },
  {
   "cell_type": "code",
   "execution_count": 6,
   "outputs": [
    {
     "data": {
      "text/plain": "<pymongo.results.InsertManyResult at 0x2af2d68f880>"
     },
     "execution_count": 6,
     "metadata": {},
     "output_type": "execute_result"
    }
   ],
   "source": [
    "col.insert_many(data)"
   ],
   "metadata": {
    "collapsed": false,
    "pycharm": {
     "name": "#%%\n"
    }
   }
  },
  {
   "cell_type": "code",
   "execution_count": 7,
   "outputs": [
    {
     "name": "stdout",
     "output_type": "stream",
     "text": [
      "{ '_id': ObjectId('60995b2a25c067c12a8fa0b9'),\n",
      "  'address': { 'building': '1007',\n",
      "               'coord': [-73.856077, 40.848447],\n",
      "               'street': 'Morris Park Ave',\n",
      "               'zipcode': '10462'},\n",
      "  'borough': 'Bronx',\n",
      "  'cuisine': 'Bakery',\n",
      "  'grades': [ { 'date': datetime.datetime(2014, 3, 3, 0, 0),\n",
      "                'grade': 'A',\n",
      "                'score': 2},\n",
      "              { 'date': datetime.datetime(2013, 9, 11, 0, 0),\n",
      "                'grade': 'A',\n",
      "                'score': 6},\n",
      "              { 'date': datetime.datetime(2013, 1, 24, 0, 0),\n",
      "                'grade': 'A',\n",
      "                'score': 10},\n",
      "              { 'date': datetime.datetime(2011, 11, 23, 0, 0),\n",
      "                'grade': 'A',\n",
      "                'score': 9},\n",
      "              { 'date': datetime.datetime(2011, 3, 10, 0, 0),\n",
      "                'grade': 'B',\n",
      "                'score': 14}],\n",
      "  'name': 'Morris Park Bake Shop',\n",
      "  'restaurant_id': '30075445'}\n"
     ]
    }
   ],
   "source": [
    "pp(col.find_one(), indent=2)"
   ],
   "metadata": {
    "collapsed": false,
    "pycharm": {
     "name": "#%%\n"
    }
   }
  },
  {
   "cell_type": "code",
   "execution_count": 12,
   "outputs": [],
   "source": [
    "agg = col.aggregate([\n",
    "    {\n",
    "        '$group':\n",
    "            {\n",
    "                '_id':\n",
    "                    {\n",
    "                        'cuisine': '$cuisine',\n",
    "                    },\n",
    "                'count': {'$sum': 1}\n",
    "            }\n",
    "    },\n",
    "    {\n",
    "        '$match': {'count': {'$gte': 100}}\n",
    "    },\n",
    "    {\n",
    "        '$project':\n",
    "            {\n",
    "                'cuisine': '$_id.cuisine',\n",
    "                'count': 1,\n",
    "                '_id': 0\n",
    "\n",
    "            }\n",
    "    },\n",
    "    {'$sort': {'cuisine': pymongo.ASCENDING}}\n",
    "])\n"
   ],
   "metadata": {
    "collapsed": false,
    "pycharm": {
     "name": "#%%\n"
    }
   }
  },
  {
   "cell_type": "code",
   "execution_count": null,
   "outputs": [],
   "source": [
    "for doc in agg:\n",
    "    print(doc)"
   ],
   "metadata": {
    "collapsed": false,
    "pycharm": {
     "name": "#%%\n"
    }
   }
  },
  {
   "cell_type": "code",
   "execution_count": 13,
   "outputs": [
    {
     "data": {
      "text/plain": "35"
     },
     "execution_count": 13,
     "metadata": {},
     "output_type": "execute_result"
    }
   ],
   "source": [
    "len(list(agg))"
   ],
   "metadata": {
    "collapsed": false,
    "pycharm": {
     "name": "#%%\n"
    }
   }
  },
  {
   "cell_type": "code",
   "execution_count": 20,
   "outputs": [
    {
     "data": {
      "text/plain": "dict_keys(['_id', 'address', 'borough', 'cuisine', 'grades', 'name', 'restaurant_id'])"
     },
     "execution_count": 20,
     "metadata": {},
     "output_type": "execute_result"
    }
   ],
   "source": [
    "col.find_one().keys()"
   ],
   "metadata": {
    "collapsed": false,
    "pycharm": {
     "name": "#%%\n"
    }
   }
  },
  {
   "cell_type": "code",
   "execution_count": 21,
   "outputs": [
    {
     "name": "stdout",
     "output_type": "stream",
     "text": [
      "{'name': 'General Assembly'}\n",
      "{'name': 'Makana'}\n",
      "{'name': 'Onomea'}\n"
     ]
    }
   ],
   "source": [
    "for doc in col.aggregate([\n",
    "    {\n",
    "        '$match': {'cuisine': 'Hawaiian'}\n",
    "    },\n",
    "    {\n",
    "        '$unwind': \"$grades\"\n",
    "    },\n",
    "    {\n",
    "        '$match': {'grades.grade': 'A'}\n",
    "    },\n",
    "    {\n",
    "        '$group':\n",
    "            {\n",
    "                '_id': {'cuisine': '$cuisine', 'name': '$name'},\n",
    "                'count': {'$sum': 1}\n",
    "            }\n",
    "    },\n",
    "    {\n",
    "        '$project':\n",
    "            {\n",
    "                'name': '$_id.name',\n",
    "                '_id': 0\n",
    "            }\n",
    "    },\n",
    "    {\n",
    "        '$sort': {'name': pymongo.ASCENDING}\n",
    "    }\n",
    "]):\n",
    "    pp(doc)"
   ],
   "metadata": {
    "collapsed": false,
    "pycharm": {
     "name": "#%%\n"
    }
   }
  },
  {
   "cell_type": "code",
   "execution_count": 22,
   "outputs": [
    {
     "name": "stdout",
     "output_type": "stream",
     "text": [
      "{'count': 6183, 'cuisine': 'American'}\n",
      "{'count': 2418, 'cuisine': 'Chinese'}\n",
      "{'count': 1214, 'cuisine': 'Café/Coffee/Tea'}\n",
      "{'count': 1163, 'cuisine': 'Pizza'}\n",
      "{'count': 1069, 'cuisine': 'Italian'}\n",
      "{'count': 1011, 'cuisine': 'Other'}\n",
      "{'count': 850,\n",
      " 'cuisine': 'Latin (Cuban, Dominican, Puerto Rican, South & Central American)'}\n",
      "{'count': 760, 'cuisine': 'Japanese'}\n",
      "{'count': 754, 'cuisine': 'Mexican'}\n",
      "{'count': 691, 'cuisine': 'Bakery'}\n",
      "{'count': 657, 'cuisine': 'Caribbean'}\n",
      "{'count': 637, 'cuisine': 'Spanish'}\n",
      "{'count': 479, 'cuisine': 'Donuts'}\n",
      "{'count': 468, 'cuisine': 'Pizza/Italian'}\n",
      "{'count': 459, 'cuisine': 'Sandwiches'}\n",
      "{'count': 433, 'cuisine': 'Hamburgers'}\n",
      "{'count': 410, 'cuisine': 'Chicken'}\n",
      "{'count': 348, 'cuisine': 'Ice Cream, Gelato, Yogurt, Ices'}\n",
      "{'count': 344, 'cuisine': 'French'}\n",
      "{'count': 321, 'cuisine': 'Delicatessen'}\n",
      "{'count': 316, 'cuisine': 'Indian'}\n",
      "{'count': 316, 'cuisine': 'Jewish/Kosher'}\n",
      "{'count': 309, 'cuisine': 'Asian'}\n",
      "{'count': 285, 'cuisine': 'Thai'}\n",
      "{'count': 273, 'cuisine': 'Juice, Smoothies, Fruit Salads'}\n",
      "{'count': 262, 'cuisine': 'Korean'}\n",
      "{'count': 255, 'cuisine': 'Sandwiches/Salads/Mixed Buffet'}\n",
      "{'count': 219, 'cuisine': 'Mediterranean'}\n",
      "{'count': 190, 'cuisine': 'Irish'}\n",
      "{'count': 168, 'cuisine': 'Bagels/Pretzels'}\n",
      "{'count': 168, 'cuisine': 'Middle Eastern'}\n",
      "{'count': 147, 'cuisine': 'Seafood'}\n",
      "{'count': 143, 'cuisine': 'Tex-Mex'}\n",
      "{'count': 111, 'cuisine': 'Greek'}\n",
      "{'count': 102, 'cuisine': 'Vegetarian'}\n",
      "{'count': 88, 'cuisine': 'Russian'}\n",
      "{'count': 86, 'cuisine': 'Steak'}\n",
      "{'count': 72,\n",
      " 'cuisine': 'Bottled beverages, including water, sodas, juices, etc.'}\n",
      "{'count': 70, 'cuisine': 'Turkish'}\n",
      "{'count': 68, 'cuisine': 'Peruvian'}\n",
      "{'count': 68, 'cuisine': 'African'}\n",
      "{'count': 66, 'cuisine': 'Vietnamese/Cambodian/Malaysia'}\n",
      "{'count': 65, 'cuisine': 'Eastern European'}\n",
      "{'count': 59, 'cuisine': 'Chinese/Japanese'}\n",
      "{'count': 58, 'cuisine': 'Continental'}\n",
      "{'count': 52, 'cuisine': 'Barbecue'}\n",
      "{'count': 51, 'cuisine': 'Soups & Sandwiches'}\n",
      "{'count': 45, 'cuisine': 'Salads'}\n",
      "{'count': 44, 'cuisine': 'Soul Food'}\n",
      "{'count': 40, 'cuisine': 'Armenian'}\n",
      "{'count': 36, 'cuisine': 'Bangladeshi'}\n",
      "{'count': 34, 'cuisine': 'Hotdogs'}\n",
      "{'count': 31, 'cuisine': 'German'}\n",
      "{'count': 31, 'cuisine': 'Pakistani'}\n",
      "{'count': 28, 'cuisine': 'Tapas'}\n",
      "{'count': 26, 'cuisine': 'Filipino'}\n",
      "{'count': 26, 'cuisine': 'Brazilian'}\n",
      "{'count': 25, 'cuisine': 'Polish'}\n",
      "{'count': 24, 'cuisine': 'Creole'}\n",
      "{'count': 19, 'cuisine': 'Not Listed/Not Applicable'}\n",
      "{'count': 18, 'cuisine': 'Ethiopian'}\n",
      "{'count': 16, 'cuisine': 'Pancakes/Waffles'}\n",
      "{'count': 16, 'cuisine': 'Chinese/Cuban'}\n",
      "{'count': 16, 'cuisine': 'Australian'}\n",
      "{'count': 16, 'cuisine': 'Hotdogs/Pretzels'}\n",
      "{'count': 16, 'cuisine': 'English'}\n",
      "{'count': 15, 'cuisine': 'Moroccan'}\n",
      "{'count': 14, 'cuisine': 'Afghan'}\n",
      "{'count': 14, 'cuisine': 'Egyptian'}\n",
      "{'count': 9, 'cuisine': 'Southwestern'}\n",
      "{'count': 8, 'cuisine': 'Indonesian'}\n",
      "{'count': 8, 'cuisine': 'Portuguese'}\n",
      "{'count': 7, 'cuisine': 'Fruits/Vegetables'}\n",
      "{'count': 7, 'cuisine': 'Scandinavian'}\n",
      "{'count': 7, 'cuisine': 'Cajun'}\n",
      "{'count': 6, 'cuisine': 'Nuts/Confectionary'}\n",
      "{'count': 6, 'cuisine': 'Czech'}\n",
      "{'count': 4, 'cuisine': 'Soups'}\n",
      "{'count': 3, 'cuisine': 'Hawaiian'}\n",
      "{'count': 2, 'cuisine': 'CafÃ©/Coffee/Tea'}\n",
      "{'count': 2, 'cuisine': 'Iranian'}\n",
      "{'count': 1, 'cuisine': 'Californian'}\n",
      "{'count': 1, 'cuisine': 'Creole/Cajun'}\n",
      "{'count': 1, 'cuisine': 'Chilean'}\n",
      "{'count': 1, 'cuisine': 'Polynesian'}\n"
     ]
    }
   ],
   "source": [
    "for doc in col.aggregate([\n",
    "    {\n",
    "        '$group': {\n",
    "            '_id': {'cuisine': '$cuisine'},\n",
    "            'count': {'$sum': 1}\n",
    "        },\n",
    "    },\n",
    "    {\n",
    "        '$project': {\n",
    "            'cuisine': '$_id.cuisine',\n",
    "            '_id': 0,\n",
    "            'count': 1\n",
    "        }\n",
    "    },\n",
    "    {\n",
    "        '$sort': {'count': pymongo.DESCENDING}\n",
    "    }\n",
    "]):\n",
    "    pp(doc)"
   ],
   "metadata": {
    "collapsed": false,
    "pycharm": {
     "name": "#%%\n"
    }
   }
  },
  {
   "cell_type": "code",
   "execution_count": 23,
   "outputs": [
    {
     "name": "stdout",
     "output_type": "stream",
     "text": [
      "{'id': ObjectId('6099470a8c7b45c9cdc50cc4'),\n",
      " 'name': 'Red Chopstick',\n",
      " 'total score': 254}\n",
      "{'id': ObjectId('6099470a8c7b45c9cdc4ede4'),\n",
      " 'name': 'Nios Restaurant',\n",
      " 'total score': 227}\n",
      "{'id': ObjectId('6099470a8c7b45c9cdc4d686'),\n",
      " 'name': 'Nanni Restaurant',\n",
      " 'total score': 225}\n",
      "{'id': ObjectId('6099470a8c7b45c9cdc5007d'),\n",
      " 'name': 'Amici 36',\n",
      " 'total score': 215}\n",
      "{'id': ObjectId('6099470a8c7b45c9cdc514af'),\n",
      " 'name': 'Cheikh Umar Futiyu Restaurant',\n",
      " 'total score': 212}\n"
     ]
    }
   ],
   "source": [
    "for doc in col.aggregate([\n",
    "    {\n",
    "        '$unwind': '$grades'\n",
    "    },\n",
    "    {\n",
    "        '$group': {\n",
    "            '_id': {\n",
    "                'id': '$_id',\n",
    "                'name': '$name',\n",
    "            },\n",
    "            'total score': {'$sum': '$grades.score'}\n",
    "        }\n",
    "    },\n",
    "    {\n",
    "        '$project': {\n",
    "            'name': '$_id.name',\n",
    "            'id': '$_id.id',\n",
    "            'total score': 1,\n",
    "            '_id': 0\n",
    "        }\n",
    "    },\n",
    "    {\n",
    "        '$sort': {'total score': pymongo.DESCENDING}\n",
    "    },\n",
    "    {\n",
    "        '$limit': 5\n",
    "    }\n",
    "]):\n",
    "    pp(doc)"
   ],
   "metadata": {
    "collapsed": false,
    "pycharm": {
     "name": "#%%\n"
    }
   }
  },
  {
   "cell_type": "code",
   "execution_count": 24,
   "outputs": [
    {
     "data": {
      "text/plain": "{'_id': ObjectId('6099470a8c7b45c9cdc4d5fb'),\n 'address': {'building': '1007',\n  'coord': [-73.856077, 40.848447],\n  'street': 'Morris Park Ave',\n  'zipcode': '10462'},\n 'borough': 'Bronx',\n 'cuisine': 'Bakery',\n 'grades': [{'date': datetime.datetime(2014, 3, 3, 0, 0),\n   'grade': 'A',\n   'score': 2},\n  {'date': datetime.datetime(2013, 9, 11, 0, 0), 'grade': 'A', 'score': 6},\n  {'date': datetime.datetime(2013, 1, 24, 0, 0), 'grade': 'A', 'score': 10},\n  {'date': datetime.datetime(2011, 11, 23, 0, 0), 'grade': 'A', 'score': 9},\n  {'date': datetime.datetime(2011, 3, 10, 0, 0), 'grade': 'B', 'score': 14}],\n 'name': 'Morris Park Bake Shop',\n 'restaurant_id': '30075445'}"
     },
     "execution_count": 24,
     "metadata": {},
     "output_type": "execute_result"
    }
   ],
   "source": [
    "col.find_one({})"
   ],
   "metadata": {
    "collapsed": false,
    "pycharm": {
     "name": "#%%\n"
    }
   }
  },
  {
   "cell_type": "code",
   "execution_count": 30,
   "outputs": [
    {
     "name": "stdout",
     "output_type": "stream",
     "text": [
      "{'_id': ObjectId('6099470a8c7b45c9cdc4fe6b'), 'total grades': 9}\n",
      "{'_id': ObjectId('6099470a8c7b45c9cdc4eebe'), 'total grades': 9}\n",
      "{'_id': ObjectId('6099470a8c7b45c9cdc4f55e'), 'total grades': 9}\n",
      "{'_id': ObjectId('6099470a8c7b45c9cdc4ee93'), 'total grades': 9}\n"
     ]
    }
   ],
   "source": [
    "for doc in col.aggregate([\n",
    "    {\n",
    "        '$project': {'_id': 1, 'grades': 1}\n",
    "    },\n",
    "    {\n",
    "        '$unwind': '$grades'\n",
    "    },\n",
    "    {\n",
    "        '$group': {\n",
    "            '_id': '$_id',\n",
    "            'total grades': {'$sum': 1}\n",
    "        }\n",
    "    },\n",
    "    {'$sort': {'total grades': pymongo.DESCENDING}},\n",
    "    {'$limit': 4}\n",
    "]):\n",
    "    pp(doc)"
   ],
   "metadata": {
    "collapsed": false,
    "pycharm": {
     "name": "#%%\n"
    }
   }
  },
  {
   "cell_type": "code",
   "execution_count": null,
   "outputs": [],
   "source": [],
   "metadata": {
    "collapsed": false,
    "pycharm": {
     "name": "#%%\n"
    }
   }
  }
 ],
 "metadata": {
  "kernelspec": {
   "display_name": "Python 3",
   "language": "python",
   "name": "python3"
  },
  "language_info": {
   "codemirror_mode": {
    "name": "ipython",
    "version": 2
   },
   "file_extension": ".py",
   "mimetype": "text/x-python",
   "name": "python",
   "nbconvert_exporter": "python",
   "pygments_lexer": "ipython2",
   "version": "2.7.6"
  }
 },
 "nbformat": 4,
 "nbformat_minor": 0
}