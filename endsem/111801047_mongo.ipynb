{
 "cells": [
  {
   "cell_type": "markdown",
   "source": [
    "# DBMS-LAB: End Sem - MongoDB\n",
    "\n",
    "    Name: Yogesh R\n",
    "    Roll Number: 111801047"
   ],
   "metadata": {
    "collapsed": false,
    "pycharm": {
     "name": "#%% md\n"
    }
   }
  },
  {
   "cell_type": "markdown",
   "source": [
    "## Initialization"
   ],
   "metadata": {
    "collapsed": false,
    "pycharm": {
     "name": "#%% md\n"
    }
   }
  },
  {
   "cell_type": "code",
   "execution_count": 1,
   "metadata": {
    "collapsed": true
   },
   "outputs": [],
   "source": [
    "import pymongo\n",
    "from bson.json_util import loads\n",
    "from pprint import pprint as pp"
   ]
  },
  {
   "cell_type": "code",
   "execution_count": 2,
   "outputs": [],
   "source": [
    "client = pymongo.MongoClient('localhost', 27017, username='root', password='mongo')"
   ],
   "metadata": {
    "collapsed": false,
    "pycharm": {
     "name": "#%%\n"
    }
   }
  },
  {
   "cell_type": "markdown",
   "source": [
    "## Adding data"
   ],
   "metadata": {
    "collapsed": false,
    "pycharm": {
     "name": "#%% md\n"
    }
   }
  },
  {
   "cell_type": "markdown",
   "source": [
    "### Reading data"
   ],
   "metadata": {
    "collapsed": false,
    "pycharm": {
     "name": "#%% md\n"
    }
   }
  },
  {
   "cell_type": "code",
   "execution_count": 3,
   "outputs": [],
   "source": [
    "with open('primer-dataset-endsem.json') as f:\n",
    "    data = f.readlines()\n",
    "\n",
    "res = []\n",
    "for d in data:\n",
    "    res.append(loads(d))\n",
    "\n",
    "data = res"
   ],
   "metadata": {
    "collapsed": false,
    "pycharm": {
     "name": "#%%\n"
    }
   }
  },
  {
   "cell_type": "markdown",
   "source": [
    "### Insertion of data"
   ],
   "metadata": {
    "collapsed": false,
    "pycharm": {
     "name": "#%% md\n"
    }
   }
  },
  {
   "cell_type": "code",
   "execution_count": 4,
   "outputs": [
    {
     "data": {
      "text/plain": "<pymongo.results.InsertManyResult at 0x1dc6d49fb80>"
     },
     "execution_count": 4,
     "metadata": {},
     "output_type": "execute_result"
    }
   ],
   "source": [
    "db = client['endsem']\n",
    "db.drop_collection('col') # If exist\n",
    "col = db['col']\n",
    "col.insert_many(data)"
   ],
   "metadata": {
    "collapsed": false,
    "pycharm": {
     "name": "#%%\n"
    }
   }
  },
  {
   "cell_type": "markdown",
   "source": [
    "# The question"
   ],
   "metadata": {
    "collapsed": false,
    "pycharm": {
     "name": "#%% md\n"
    }
   }
  },
  {
   "cell_type": "code",
   "execution_count": 5,
   "outputs": [
    {
     "name": "stdout",
     "output_type": "stream",
     "text": [
      "{'cuisine': 'Irish', 'number_of_restaurant': 116}\n",
      "{'cuisine': 'Ice Cream, Gelato, Yogurt, Ices', 'number_of_restaurant': 118}\n",
      "{'cuisine': 'Pizza/Italian', 'number_of_restaurant': 119}\n",
      "{'cuisine': 'Hamburgers', 'number_of_restaurant': 124}\n",
      "{'cuisine': 'Juice, Smoothies, Fruit Salads', 'number_of_restaurant': 125}\n",
      "{'cuisine': 'Mediterranean', 'number_of_restaurant': 130}\n",
      "{'cuisine': 'Spanish', 'number_of_restaurant': 133}\n",
      "{'cuisine': 'Delicatessen', 'number_of_restaurant': 133}\n",
      "{'cuisine': 'Asian', 'number_of_restaurant': 134}\n",
      "{'cuisine': 'Donuts', 'number_of_restaurant': 136}\n",
      "{'cuisine': 'Sandwiches/Salads/Mixed Buffet', 'number_of_restaurant': 142}\n",
      "{'cuisine': 'Indian', 'number_of_restaurant': 152}\n",
      "{'cuisine': 'Thai', 'number_of_restaurant': 154}\n",
      "{'cuisine': 'Latin (Cuban, Dominican, Puerto Rican, South & Central American)',\n",
      " 'number_of_restaurant': 195}\n",
      "{'cuisine': 'Sandwiches', 'number_of_restaurant': 211}\n",
      "{'cuisine': 'Bakery', 'number_of_restaurant': 221}\n",
      "{'cuisine': 'French', 'number_of_restaurant': 266}\n",
      "{'cuisine': 'Mexican', 'number_of_restaurant': 273}\n",
      "{'cuisine': 'Pizza', 'number_of_restaurant': 339}\n",
      "{'cuisine': 'Other', 'number_of_restaurant': 371}\n",
      "{'cuisine': 'Japanese', 'number_of_restaurant': 438}\n"
     ]
    }
   ],
   "source": [
    "for doc in col.aggregate([\n",
    "    {\n",
    "        '$match':\n",
    "            {\n",
    "                'borough': 'Manhattan'\n",
    "            }\n",
    "    },\n",
    "    {\n",
    "        '$group':\n",
    "            {\n",
    "                '_id':\n",
    "                    {\n",
    "                        'cuisine': '$cuisine'\n",
    "                    },\n",
    "                'number_of_restaurant':\n",
    "                    {\n",
    "                        '$sum':1\n",
    "                    }\n",
    "            }\n",
    "    },\n",
    "    {\n",
    "        '$match':\n",
    "            {\n",
    "                'number_of_restaurant':\n",
    "                    {\n",
    "                        '$lt': 500,\n",
    "                        '$gt': 100\n",
    "                     }\n",
    "            }\n",
    "    },\n",
    "    {\n",
    "        '$project':\n",
    "            {\n",
    "                'cuisine': '$_id.cuisine',\n",
    "                '_id': 0,\n",
    "                'number_of_restaurant': 1\n",
    "            }\n",
    "    },\n",
    "    {'$sort': {'number_of_restaurant': pymongo.ASCENDING}}\n",
    "]):\n",
    "    pp(doc)"
   ],
   "metadata": {
    "collapsed": false,
    "pycharm": {
     "name": "#%%\n"
    }
   }
  },
  {
   "cell_type": "code",
   "execution_count": 5,
   "outputs": [],
   "source": [],
   "metadata": {
    "collapsed": false,
    "pycharm": {
     "name": "#%%\n"
    }
   }
  }
 ],
 "metadata": {
  "kernelspec": {
   "display_name": "Python 3",
   "language": "python",
   "name": "python3"
  },
  "language_info": {
   "codemirror_mode": {
    "name": "ipython",
    "version": 2
   },
   "file_extension": ".py",
   "mimetype": "text/x-python",
   "name": "python",
   "nbconvert_exporter": "python",
   "pygments_lexer": "ipython2",
   "version": "2.7.6"
  }
 },
 "nbformat": 4,
 "nbformat_minor": 0
}